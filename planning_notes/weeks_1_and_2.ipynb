{
 "metadata": {
  "language_info": {
   "codemirror_mode": {
    "name": "ipython",
    "version": 3
   },
   "file_extension": ".py",
   "mimetype": "text/x-python",
   "name": "python",
   "nbconvert_exporter": "python",
   "pygments_lexer": "ipython3",
   "version": "3.9.2"
  },
  "orig_nbformat": 2,
  "kernelspec": {
   "name": "python39264bitd5779346de1c4cd0bf5e19d3a9bc78d4",
   "display_name": "Python 3.9.2 64-bit"
  },
  "metadata": {
   "interpreter": {
    "hash": "e7a26f5bebd1b9da0f051359361ac514eb1c970e7ede8197699eeb788ac44870"
   }
  }
 },
 "nbformat": 4,
 "nbformat_minor": 2,
 "cells": [
  {
   "source": [
    "# Sprint Weeks 1 and 2\n",
    "\n",
    "### 4/4/2021 - 4/18/2021"
   ],
   "cell_type": "markdown",
   "metadata": {}
  },
  {
   "cell_type": "code",
   "execution_count": 2,
   "metadata": {},
   "outputs": [],
   "source": [
    "__author__: \"Christine Mendoza '24\""
   ]
  },
  {
   "source": [
    "## Preliminary Plans\n",
    "Framework: Flask\n",
    "\n",
    "API: Trivia API\n",
    "\n",
    "To-Do: Read the Flask documentation more thoroughly for understanding, learn how to do GET/POST to change requests based on user input, list everything that should be learned beyond Python (HTML (including Jinja), CSS, JS, website structure, JSON, deploying to Heroku or another server)\n",
    "\n",
    "## Record\n",
    "4/13/2021 - Posted a poll\n",
    "\n",
    "4/17/2021 - Migrated https://summit-app-newest.herokuapp.com/ to Flask to get a feel for the framework (migrated website is not published but is available as a private repo on Github)\n",
    "\n",
    "4/17/2021 - Poll results: Trivia API won\n",
    "4/19/2021 - David Karash added as a collaborator! Will meet to discuss API later this week."
   ],
   "cell_type": "markdown",
   "metadata": {}
  },
  {
   "source": [
    "## Selecting an API"
   ],
   "cell_type": "markdown",
   "metadata": {}
  },
  {
   "source": [
    "4/13/2021 - Running a poll! \n",
    "\n",
    "4/17/2021 - Poll results: Trivia API is the winner! (see api_poll screenshot for details)"
   ],
   "cell_type": "markdown",
   "metadata": {}
  },
  {
   "source": [
    "## Flask Notes\n",
    "\n",
    "1. Should students create a venv (virtual environment)?\n",
    "- To simplify things, I would decide against it but may include a note about it at the end for those who want to take web development further.\n",
    "2. In final writup, include `pip install Flask` or `pip3 install Flask` - note that students who set up their workspace after 2/17/2021 should already have the requirements (Flask, including Jinja2, Werkzeug, itsdangerous, click, and MarkupSafe); most might have to install\n",
    "3. If we start with 'Hello, World' (https://flask.palletsprojects.com/en/1.1.x/quickstart/#a-minimal-application)\n",
    "    - what exactly do each of the lines do? - explain that and note \\__name\\__ is sth they should be familiar with!\n",
    "4. Not starting with 'Hello, World': https://flask.palletsprojects.com/en/1.1.x/tutorial/factory/\n",
    "5. See sources/references (will have to show jinja2, ...)\n",
    "\n",
    "More considerations for students...\n",
    "- Not a worry with Trivia API, but secret keys should be stored as environment variables -- this will be a concern during deployment\n",
    "- JSON"
   ],
   "cell_type": "markdown",
   "metadata": {}
  }
 ]
}