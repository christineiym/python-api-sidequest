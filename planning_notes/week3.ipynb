{
 "metadata": {
  "language_info": {
   "codemirror_mode": {
    "name": "ipython",
    "version": 3
   },
   "file_extension": ".py",
   "mimetype": "text/x-python",
   "name": "python",
   "nbconvert_exporter": "python",
   "pygments_lexer": "ipython3",
   "version": "3.9.2"
  },
  "orig_nbformat": 2,
  "kernelspec": {
   "name": "python39264bitd5779346de1c4cd0bf5e19d3a9bc78d4",
   "display_name": "Python 3.9.2 64-bit"
  },
  "metadata": {
   "interpreter": {
    "hash": "e7a26f5bebd1b9da0f051359361ac514eb1c970e7ede8197699eeb788ac44870"
   }
  }
 },
 "nbformat": 4,
 "nbformat_minor": 2,
 "cells": [
  {
   "source": [
    "# Sprint Week 3\n",
    "\n",
    "### 4/19/2021 - 4/25/2021"
   ],
   "cell_type": "markdown",
   "metadata": {}
  },
  {
   "cell_type": "code",
   "execution_count": 1,
   "metadata": {},
   "outputs": [],
   "source": [
    "__author__: \"Christine Mendoza '24 and David Karash '24 (collaborator)\""
   ]
  },
  {
   "source": [
    "4/21/2021 - Debriefing Zoom meeting with David\n",
    "\n",
    "4/23/2021 - Discussions with Kris\n",
    "\n",
    "4/25/2021 - Delivered a summary of progress during All-Hands"
   ],
   "cell_type": "markdown",
   "metadata": {}
  },
  {
   "source": [
    "## Revisions to the structure of the sidequest\n",
    "- Sidequest 1: HTML with Python (simple fortune cookie or magic 8-ball local website, with HTML interaction and possibly with links)\n",
    "- potential eventual sidequest product: full-blown HTML/CSS/JS + Python + API + deployment\n",
    "- _potential_ 110 assignment suggested by Kris (that this sidequest could serve as an accessory to): we provide HTML/CSS/JS and have students implement certain functions in Python that would work with the HTML/CSS/JS."
   ],
   "cell_type": "markdown",
   "metadata": {}
  },
  {
   "source": [
    "## Notes on timeline\n",
    "- Kris noted that we should try to see how far we can go in the week of 4/26/2021 - 5/2/2021 (as we should not be working on this during the last week of class and finals) without going over hour allocation expectations.\n",
    "- The idea with piloting these sidequests is that hopefully we should have some ready to go for Fall 2021."
   ],
   "cell_type": "markdown",
   "metadata": {}
  },
  {
   "source": [
    "## Topics to address eventually (in a separate sidequest) (in no particular order)\n",
    "Getting familiar with Trivia API\n",
    "\n",
    "TypeScript\n",
    "\n",
    "How to deploy to Heroku"
   ],
   "cell_type": "markdown",
   "metadata": {}
  }
 ]
}