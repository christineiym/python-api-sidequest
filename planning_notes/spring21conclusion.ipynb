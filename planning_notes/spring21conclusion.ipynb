{
 "metadata": {
  "language_info": {
   "codemirror_mode": {
    "name": "ipython",
    "version": 3
   },
   "file_extension": ".py",
   "mimetype": "text/x-python",
   "name": "python",
   "nbconvert_exporter": "python",
   "pygments_lexer": "ipython3",
   "version": "3.9.2"
  },
  "orig_nbformat": 2,
  "kernelspec": {
   "name": "python39264bitd5779346de1c4cd0bf5e19d3a9bc78d4",
   "display_name": "Python 3.9.2 64-bit"
  },
  "metadata": {
   "interpreter": {
    "hash": "e7a26f5bebd1b9da0f051359361ac514eb1c970e7ede8197699eeb788ac44870"
   }
  }
 },
 "nbformat": 4,
 "nbformat_minor": 2,
 "cells": [
  {
   "source": [
    "# End-of-semester wrap-up\n",
    "\n",
    "### 5/14/2021 - 5/15/2021"
   ],
   "cell_type": "markdown",
   "metadata": {}
  },
  {
   "cell_type": "code",
   "execution_count": 1,
   "metadata": {},
   "outputs": [],
   "source": [
    "__author__: \"Christine Mendoza '24 and David Karash '24 (collaborator)\""
   ]
  },
  {
   "source": [
    "5/14/2021 - 5/15/2021 - I (Christine) worked on bringing the sidequest to a good stopping point (e.g., a functional first draft of the product). "
   ],
   "cell_type": "markdown",
   "metadata": {}
  },
  {
   "source": [
    "## Reflections\n",
    "- We will continue iterating on this in the future to ensure that students can have as gentle/productive introduction to web development as possible.\n",
    "    * It may be simpler to not utilize textual input (as opposed to just a submit button) with unc_abbreviations. \n",
    "- I need to research more information on best practices/conventions in website development.\n",
    "- I had to write in Python code to ensure the website was functional. There are improvements that could be made to it that David could do when we work on this again."
   ],
   "cell_type": "markdown",
   "metadata": {}
  }
 ]
}