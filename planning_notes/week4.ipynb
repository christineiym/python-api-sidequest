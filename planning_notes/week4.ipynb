{
 "metadata": {
  "language_info": {
   "codemirror_mode": {
    "name": "ipython",
    "version": 3
   },
   "file_extension": ".py",
   "mimetype": "text/x-python",
   "name": "python",
   "nbconvert_exporter": "python",
   "pygments_lexer": "ipython3",
   "version": "3.9.2"
  },
  "orig_nbformat": 2,
  "kernelspec": {
   "name": "python39264bitd5779346de1c4cd0bf5e19d3a9bc78d4",
   "display_name": "Python 3.9.2 64-bit"
  },
  "metadata": {
   "interpreter": {
    "hash": "e7a26f5bebd1b9da0f051359361ac514eb1c970e7ede8197699eeb788ac44870"
   }
  }
 },
 "nbformat": 4,
 "nbformat_minor": 2,
 "cells": [
  {
   "source": [
    "# Sprint Week 4\n",
    "\n",
    "### 4/26/2021 - 5/2/2021"
   ],
   "cell_type": "markdown",
   "metadata": {}
  },
  {
   "cell_type": "code",
   "execution_count": 1,
   "metadata": {},
   "outputs": [],
   "source": [
    "__author__: \"Christine Mendoza '24 and David Karash '24 (collaborator)\""
   ]
  },
  {
   "source": [
    "4/26/2021 - Deciding on website idea/ splitting up work with David over Slack\n",
    "\n",
    "4/27/2021 - Began work on unc_abbreviations"
   ],
   "cell_type": "markdown",
   "metadata": {}
  },
  {
   "source": [
    "## Website idea\n",
    "- David and I (Christine) decided that either a fortune cookie website or a dictionary/look-up website would be ideal for this sidequest.\n",
    "    * I went with the dictionary/look-up website since both ideas require a SUBMIT button and GET/POST, although I will look deeper into how to provide interaction through buttons without passing form data.\n",
    "- If the implementation of the website is too complicated, it _may_ be more suited for the potential 110 assignment suggested by Kris: we provide HTML/CSS/JS and have students implement certain functions in Python that would work with the HTML/CSS/JS."
   ],
   "cell_type": "markdown",
   "metadata": {}
  },
  {
   "source": [
    "## Splitting up the work\n",
    "* David and I decided that I would take greater responsibility for the HTML portion, he would do the same for the Python portion, and we would each write the corresponding portions of the final write-up and look over each other's work, filling in for one another when needed."
   ],
   "cell_type": "markdown",
   "metadata": {}
  }
 ]
}